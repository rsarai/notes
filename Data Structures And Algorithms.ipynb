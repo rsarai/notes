{
 "cells": [
  {
   "cell_type": "markdown",
   "metadata": {},
   "source": [
    "# Data Structures And Algorithms"
   ]
  },
  {
   "cell_type": "markdown",
   "metadata": {},
   "source": [
    "### 1.7 Exception Handling\n"
   ]
  },
  {
   "cell_type": "markdown",
   "metadata": {},
   "source": [
    "Exceptions are unexpected events that occur during the execution of a program."
   ]
  },
  {
   "cell_type": "markdown",
   "metadata": {},
   "source": [
    "One philosophy for managing exceptional cases is to **“look before you leap.”** The goal is to entirely avoid the possibility of an exception being raised through the use of a proactive conditional test."
   ]
  },
  {
   "cell_type": "code",
   "execution_count": 4,
   "metadata": {},
   "outputs": [],
   "source": [
    "y = 0\n",
    "x = 2\n",
    "\n",
    "if y != 0:\n",
    "    ratio = x/y\n",
    "else:\n",
    "    pass"
   ]
  },
  {
   "cell_type": "markdown",
   "metadata": {},
   "source": [
    "A second philosophy, often embraced by Python programmers, is that **“it is easier to ask for forgiveness than it is to get permission.”** This quote is attributed to Grace Hopper, an early pioneer in computer science. The sentiment is that we need not spend extra execution time safeguarding against every possible exceptional case, as long as there is a mechanism for coping with a problem after it arises. In Python, this philosophy is implemented using a try-except control structure."
   ]
  },
  {
   "cell_type": "code",
   "execution_count": 5,
   "metadata": {},
   "outputs": [],
   "source": [
    "try:\n",
    "    ratio = x/y\n",
    "except ZeroDivisionError:\n",
    "    pass"
   ]
  },
  {
   "cell_type": "markdown",
   "metadata": {},
   "source": [
    "The relative advantage of using a try-except structure is that the non-exceptional case runs efficiently, without extraneous checks for the exceptional condition. However, handling the exceptional case requires slightly more time when using a try-except structure than with a standard conditional statement."
   ]
  },
  {
   "cell_type": "markdown",
   "metadata": {},
   "source": [
    "### 1.8 Iterators and Generators"
   ]
  },
  {
   "cell_type": "markdown",
   "metadata": {},
   "source": [
    "#### Iterators\n",
    "An **iterator** is an object that manages an iteration through a series of values. If variable, i, identifies an iterator object, then each call to the built-in function, next(i), produces a subsequent element from the underlying series, with a StopIteration exception raised to indicate that there are no further elements."
   ]
  },
  {
   "cell_type": "markdown",
   "metadata": {},
   "source": [
    "An **iterable** is an object, obj, that produces an iterator via the syntax iter(obj)."
   ]
  },
  {
   "cell_type": "markdown",
   "metadata": {},
   "source": [
    "By these definitions, an instance of a list is an iterable, but not itself an iterator."
   ]
  },
  {
   "cell_type": "code",
   "execution_count": 22,
   "metadata": {},
   "outputs": [
    {
     "name": "stdout",
     "output_type": "stream",
     "text": [
      "Type Error - Not iterator\n"
     ]
    },
    {
     "data": {
      "text/plain": [
       "4"
      ]
     },
     "execution_count": 22,
     "metadata": {},
     "output_type": "execute_result"
    }
   ],
   "source": [
    "data = [1, 2, 4, 8]\n",
    "try:\n",
    "    next(data)\n",
    "except TypeError:\n",
    "    print(\"Type Error - Not iterator\")\n",
    "    \n",
    "i = iter(data)\n",
    "next(i)\n",
    "next(i)\n",
    "next(i)"
   ]
  },
  {
   "cell_type": "markdown",
   "metadata": {},
   "source": [
    "For example, calling iter(data) on a list instance produces an instance of the list iterator class. That iterator does not store its own copy of the list of elements. Instead, it maintains a current index into the original list, representing the next element to be reported.Therefore, if the contents of the original list **are modified after the iterator is constructed, but before the iteration is complete**, the iterator **will be reporting the updated contents** of the list."
   ]
  },
  {
   "cell_type": "markdown",
   "metadata": {},
   "source": [
    "Python supports functions and classes that produce an **implicit iterable series of values**, that is, without constructing a data structure to store all of its values at once."
   ]
  },
  {
   "cell_type": "code",
   "execution_count": 15,
   "metadata": {},
   "outputs": [
    {
     "name": "stdout",
     "output_type": "stream",
     "text": [
      "True\n",
      "False\n"
     ]
    }
   ],
   "source": [
    "print(type(range(10000)) != list)\n",
    "print(type(range(10000)) == iter)"
   ]
  },
  {
   "cell_type": "markdown",
   "metadata": {},
   "source": [
    "This object generates the million values **one at a time**, and only as needed. Such a **lazy evaluation** technique has great advantage. We see lazy evaluation used in many of Python’s libraries. For example, the dictionary class supports methods keys( ), values( ), and items( ), which respectively produce a “view” of all keys, values, or (key,value) pairs within a dictionary. None of these methods produces an explicit list of results. Instead, the views that are produced are iterable objects based upon the actual contents of the dictionary."
   ]
  },
  {
   "cell_type": "markdown",
   "metadata": {},
   "source": [
    "#### Generators\n",
    "The most convenient technique for creating iterators in Python is through the use of generators.\n",
    "\n",
    "A generator is implemented with a syntax that is very similar to a function, but instead of returning values, a **yield** statement is executed to indicate each element of the series."
   ]
  },
  {
   "cell_type": "code",
   "execution_count": 18,
   "metadata": {},
   "outputs": [
    {
     "data": {
      "text/plain": [
       "[1, 2, 4, 5, 10, 20, 25, 50, 100]"
      ]
     },
     "execution_count": 18,
     "metadata": {},
     "output_type": "execute_result"
    }
   ],
   "source": [
    "# List of all factors\n",
    "\n",
    "def factors(n):\n",
    "    results = []\n",
    "    for k in range(1, n+1):\n",
    "        if n%k == 0:\n",
    "            results.append(k)\n",
    "    return results\n",
    "\n",
    "factors(100)"
   ]
  },
  {
   "cell_type": "code",
   "execution_count": 21,
   "metadata": {},
   "outputs": [
    {
     "name": "stdout",
     "output_type": "stream",
     "text": [
      "1\n",
      "2\n",
      "4\n",
      "5\n",
      "10\n",
      "20\n",
      "25\n",
      "50\n",
      "100\n"
     ]
    }
   ],
   "source": [
    "# Implementation of a generator\n",
    "def factors(n):\n",
    "    for k in range(1,n+1):\n",
    "        if n%k == 0:\n",
    "            yield k\n",
    "            \n",
    "for factor in factors(100):\n",
    "    print(factor)"
   ]
  },
  {
   "cell_type": "markdown",
   "metadata": {},
   "source": [
    "It is illegal to combine yield and return statements in the same implementation, other than a zero-argument return statement to cause a generator to end its execution. The results are only computed if requested, and the entire series need not reside in memory at one time."
   ]
  },
  {
   "cell_type": "markdown",
   "metadata": {},
   "source": [
    "### 1.9 Additional Python Conveniences"
   ]
  },
  {
   "cell_type": "markdown",
   "metadata": {},
   "source": [
    "### 1.9.1 Conditional Expressions\n",
    "\n",
    "_expr1_ **if** condition **else** _expr2_"
   ]
  },
  {
   "cell_type": "code",
   "execution_count": 6,
   "metadata": {},
   "outputs": [],
   "source": [
    "def foo(param):\n",
    "    pass\n",
    "\n",
    "# If Statement\n",
    "n = 10\n",
    "if n >= 0:\n",
    "    param = n\n",
    "else:\n",
    "    param= -n\n",
    "result = foo(param)\n",
    "\n",
    "# Conditional Expression\n",
    "param = n if n >= 0 else -n\n",
    "result = foo(param)\n",
    "\n",
    "# Even Better\n",
    "result = foo(n if n >= 0 else -n)"
   ]
  },
  {
   "cell_type": "markdown",
   "metadata": {},
   "source": [
    "The book recommends that a conditional expression be used only when it improves the readability\n",
    "of the source code, and when the first of the two options is the more “natural” case,\n",
    "given its prominence in the syntax."
   ]
  },
  {
   "cell_type": "markdown",
   "metadata": {},
   "source": [
    "### 1.9.2 Comprehension Syntax\n",
    "To produce one series of values based upon the processing of another series. Often, this task can be accomplished quite simply in Python using what is known as a **comprehension syntax**. \n",
    "\n",
    "**List comprehension**:\n",
    "\n",
    "[ _expression_ **for** _value_ **in** _iterable_ **if** _condition_ ]"
   ]
  },
  {
   "cell_type": "code",
   "execution_count": 9,
   "metadata": {},
   "outputs": [],
   "source": [
    "squares = [ ]\n",
    "for k in range(1, n+1):\n",
    "    squares.append(k*k)\n",
    "    \n",
    "# List comprehension\n",
    "squares = [k*k for k in range(1, n+1)]"
   ]
  },
  {
   "cell_type": "markdown",
   "metadata": {},
   "source": [
    "Python supports similar comprehension syntaxes that respectively produce a set, generator, or dictionary. We compare those syntaxes using our example for producing the squares of numbers.\n",
    "\n",
    "- [ k k for k in range(1, n+1) ]: list comprehension\n",
    "    \n",
    "- { k k for k in range(1, n+1) }: set comprehension\n",
    "    \n",
    "- ( k k for k in range(1, n+1) ): generator comprehension\n",
    "    \n",
    "- { k : k k for k in range(1, n+1) }: dictionary comprehension\n",
    "\n",
    "The generator syntax is particularly attractive when results do not need to be stored in memory. For example, to compute the sum of the first n squares, the generator syntax, total = sum(k k for k in range(1, n+1)), is preferred to the use of an explicitly instantiated list comprehension as the parameter."
   ]
  },
  {
   "cell_type": "markdown",
   "metadata": {},
   "source": [
    "### 1.9.3 Packing and Unpacking of Sequences\n",
    "\n",
    "If a series of comma-separated expressions are given in a larger context, they will be treated as a single tuple, even if no enclosing parentheses are provided. For example, the assignment:\n",
    "\n",
    "```python\n",
    "data = 1, 2, 4, 5\n",
    "```\n",
    "\n",
    "results in identifier, data, being assigned to the tuple (1, 2, 4, 5). This behavior is called **automatic packing** of a tuple. One common use of packing in Python is when returning multiple values from a function, like:\n",
    "\n",
    "```python\n",
    "return x, y\n",
    "```\n",
    "\n",
    "it will be formally returning a single object that is the tuple (x, y)."
   ]
  },
  {
   "cell_type": "markdown",
   "metadata": {},
   "source": [
    "Python can automatically unpack a sequence, allowing one to assign a series of individual identifiers to the elements of sequence."
   ]
  },
  {
   "cell_type": "code",
   "execution_count": 10,
   "metadata": {},
   "outputs": [],
   "source": [
    "a, b, c, d = range(7, 11)"
   ]
  },
  {
   "cell_type": "markdown",
   "metadata": {},
   "source": [
    "For this syntax, the right-hand side expression can be any iterable type, as long as the number of variables on the\n",
    "left-hand side is the same as the number of elements in the iteration."
   ]
  },
  {
   "cell_type": "markdown",
   "metadata": {},
   "source": [
    "#### Simultaneous Assignments\n",
    "\n",
    "```python\n",
    "x, y, z = 6, 2, 5\n",
    "```"
   ]
  },
  {
   "cell_type": "markdown",
   "metadata": {},
   "source": [
    "### 1.10 Scopes and Namespaces\n",
    "\n",
    "When computing a sum with the syntax x + y in Python, the names x and y must have been previously associated with objects that serve as values; a NameError will be raised if no such definitions are found. **The process of determining the value associated with an identifier is known as name resolution**.\n",
    "\n",
    "Whenever an identifier is assigned to a value, that definition is made with a specific scope. Top-level assignments are typically made in what is known as global scope.\n",
    "\n",
    "Each distinct scope in Python is represented using an abstraction known as a namespace. A namespace manages all identifiers that are currently defined in a given scope.\n",
    "\n",
    "#### First-Class Objects\n",
    "\n",
    ">_First-class objects_ are instances of a type that can be assigned to an identifier, passed as a parameter, or returned by a function.\n",
    "\n",
    "**All** of the **data types** we introduced in Section 1.2.3, such as _int_ and _list_, are clearly first-class types in Python. In Python, **functions and classes are also** treated as first-class objects."
   ]
  },
  {
   "cell_type": "code",
   "execution_count": 3,
   "metadata": {},
   "outputs": [
    {
     "name": "stdout",
     "output_type": "stream",
     "text": [
      "Hello\n"
     ]
    }
   ],
   "source": [
    "scream = print\n",
    "scream('Hello')\n",
    "\n",
    "# not created a new function, we have simply defined scream \n",
    "# as an alias for the existing print function."
   ]
  },
  {
   "cell_type": "markdown",
   "metadata": {},
   "source": [
    "### 1.11 Modules and the Import Statement\n",
    "\n",
    "Beyond the built-in definitions, the standard Python distribution includes perhaps tens of thousands of other values, functions, and classes that are organized in additional libraries, known as **modules**, that can be **imported** from within a program."
   ]
  },
  {
   "cell_type": "code",
   "execution_count": 4,
   "metadata": {},
   "outputs": [],
   "source": [
    "from math import pi, sqrt\n",
    "from math import *"
   ]
  },
  {
   "cell_type": "markdown",
   "metadata": {},
   "source": [
    "#### Creating a New Module\n"
   ]
  }
 ],
 "metadata": {
  "kernelspec": {
   "display_name": "Python 3",
   "language": "python",
   "name": "python3"
  },
  "language_info": {
   "codemirror_mode": {
    "name": "ipython",
    "version": 3
   },
   "file_extension": ".py",
   "mimetype": "text/x-python",
   "name": "python",
   "nbconvert_exporter": "python",
   "pygments_lexer": "ipython3",
   "version": "3.6.5"
  }
 },
 "nbformat": 4,
 "nbformat_minor": 2
}
